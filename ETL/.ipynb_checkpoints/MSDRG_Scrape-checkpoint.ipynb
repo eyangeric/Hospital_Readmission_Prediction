{
 "cells": [
  {
   "cell_type": "markdown",
   "metadata": {},
   "source": [
    "# Web Scraping the Centers for Medicare & Medicaid Services Website to Group MS-DRG Codes"
   ]
  },
  {
   "cell_type": "markdown",
   "metadata": {},
   "source": [
    "###### CMS Website\n",
    "###### https://www.cms.gov/ICD10Manual/version33-fullcode-cms/fullcode_cms/P0002.html"
   ]
  },
  {
   "cell_type": "code",
   "execution_count": null,
   "metadata": {},
   "outputs": [],
   "source": [
    "# import dependencies\n",
    "import pandas as pd\n",
    "from bs4 import BeautifulSoup\n",
    "import requests\n",
    "import pandas as pd"
   ]
  },
  {
   "cell_type": "code",
   "execution_count": null,
   "metadata": {},
   "outputs": [],
   "source": [
    "# url with all the links to the individual MS-DRGs\n",
    "index_url = \"https://www.cms.gov/ICD10Manual/version33-fullcode-cms/fullcode_cms/P0002.html\""
   ]
  },
  {
   "cell_type": "code",
   "execution_count": null,
   "metadata": {},
   "outputs": [],
   "source": [
    "# scrape urls for each individual MS-DRG link\n",
    "response = requests.get(index_url)\n",
    "soup = BeautifulSoup(response.text, 'html.parser')\n",
    "results = soup.find_all('a', class_=\"compl\")\n",
    "\n",
    "url_begin = \"https://www.cms.gov/ICD10Manual/version33-fullcode-cms/fullcode_cms/\"\n",
    "\n",
    "MSDRG_urls = []\n",
    "MSDRG_nums = []\n",
    "MSDRG_descr = []\n",
    "for result in results:\n",
    "    \n",
    "    #scrape MS-DRG urls\n",
    "    url_end = result['href']\n",
    "    url_complete = url_begin + url_end\n",
    "    MSDRG_urls.append(url_complete)\n",
    "    \n",
    "    #scrape MS-DRG numbers and descriptions\n",
    "    MSDRG_text = result.text\n",
    "    text_split = MSDRG_text.split()\n",
    "    \n",
    "    #MS-DRG numbers\n",
    "    MSDRG_num = text_split[1]\n",
    "    MSDRG_nums.append(MSDRG_num)\n",
    "    \n",
    "    #MS-DRG descriptions\n",
    "    text_split = MSDRG_text.split()\n",
    "    text_split2 = MSDRG_text.split(\"&nbsp;&nbsp;&nbsp;\")\n",
    "    for text in text_split2:\n",
    "        text_list = text.split(\"\\xa0\\xa0\\xa0\")\n",
    "        MSDRG_dx = text_list[1]\n",
    "        MSDRG_descr.append(MSDRG_dx)"
   ]
  },
  {
   "cell_type": "code",
   "execution_count": null,
   "metadata": {},
   "outputs": [],
   "source": [
    "# scrape MS-DRG diagnosis categories and general descriptions from each MS-DRG link\n",
    "DX_cats = []\n",
    "DX_gen_descr = []\n",
    "\n",
    "for url in MSDRG_urls:\n",
    "    response = requests.get(url)\n",
    "    soup = BeautifulSoup(response.text, 'html.parser')\n",
    "    results = soup.find_all('td', class_=\"heading\")\n",
    "    \n",
    "    DX_cat = results[0].text\n",
    "    DX_descr = results[1].text\n",
    "    \n",
    "    DX_cats.append(DX_cat)\n",
    "    DX_gen_descr.append(DX_descr)"
   ]
  },
  {
   "cell_type": "code",
   "execution_count": null,
   "metadata": {},
   "outputs": [],
   "source": [
    "# create data dictionary\n",
    "data = {'MSDRG_num': MSDRG_nums, 'MSDRG_cat': DX_cats, 'MSDRG_gen_descr': DX_gen_descr, 'MSDRG_descr': MSDRG_descr}"
   ]
  },
  {
   "cell_type": "code",
   "execution_count": null,
   "metadata": {},
   "outputs": [],
   "source": [
    "# convert data dictionary to pandas data frame\n",
    "CMS_MSDRG = pd.DataFrame.from_dict(data)"
   ]
  },
  {
   "cell_type": "code",
   "execution_count": null,
   "metadata": {},
   "outputs": [],
   "source": [
    "# export data to csv\n",
    "CMS_MSDRG.to_csv(\"../Datasets/CMS_MSDRG.csv\", index = False)"
   ]
  }
 ],
 "metadata": {
  "kernelspec": {
   "display_name": "Python 3",
   "language": "python",
   "name": "python3"
  },
  "language_info": {
   "codemirror_mode": {
    "name": "ipython",
    "version": 3
   },
   "file_extension": ".py",
   "mimetype": "text/x-python",
   "name": "python",
   "nbconvert_exporter": "python",
   "pygments_lexer": "ipython3",
   "version": "3.7.3"
  }
 },
 "nbformat": 4,
 "nbformat_minor": 2
}
