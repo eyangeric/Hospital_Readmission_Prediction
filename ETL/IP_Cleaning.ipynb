{
 "cells": [
  {
   "cell_type": "markdown",
   "metadata": {},
   "source": [
    "# Clean Inpatient Dataset"
   ]
  },
  {
   "cell_type": "markdown",
   "metadata": {},
   "source": [
    "### The ETL was done in SAS. I aggregated 2017 inpatient data from Rush University Medical Center and Rush Oak Park Hospital with patients' zip code level variables from American Fact Finder. "
   ]
  },
  {
   "cell_type": "code",
   "execution_count": null,
   "metadata": {},
   "outputs": [],
   "source": [
    "# import dependencies\n",
    "import pandas as pd\n",
    "from pandasql import sqldf"
   ]
  },
  {
   "cell_type": "code",
   "execution_count": null,
   "metadata": {},
   "outputs": [],
   "source": [
    "# read in dataset\n",
    "Rush = pd.read_csv(\"../Datasets/Rush_IP_2017_ACS.csv\")\n",
    "MSDRG = pd.read_csv(\"../Datasets/CMS_MSDRG.csv\")"
   ]
  },
  {
   "cell_type": "code",
   "execution_count": null,
   "metadata": {},
   "outputs": [],
   "source": [
    "# preview dataset\n",
    "print(Rush.head())\n",
    "print(MSDRG.head())"
   ]
  },
  {
   "cell_type": "code",
   "execution_count": null,
   "metadata": {},
   "outputs": [],
   "source": [
    "# merge datasets on MS-DRG number\n",
    "IP = pd.merge(Rush, MSDRG, how='left', left_on=['MSDRG'], right_on=['MSDRG_num'])\n",
    "IP = IP.drop(columns=['MSDRG'])"
   ]
  },
  {
   "cell_type": "code",
   "execution_count": null,
   "metadata": {},
   "outputs": [],
   "source": [
    "print(f\"There are {len(IP)} rows in this dataset.\")\n",
    "print(f\"There are {len(IP['ID'].unique())} unique patients.\")"
   ]
  },
  {
   "cell_type": "code",
   "execution_count": null,
   "metadata": {
    "scrolled": true
   },
   "outputs": [],
   "source": [
    "# check distribution of categorical demographic variables\n",
    "print(IP[\"Ethnicity\"].value_counts())\n",
    "print(IP[\"Race\"].value_counts())\n",
    "print(IP[\"Language\"].value_counts())\n",
    "print(IP[\"Gender\"].value_counts())"
   ]
  },
  {
   "cell_type": "code",
   "execution_count": null,
   "metadata": {},
   "outputs": [],
   "source": [
    "# crosstab ethnicity and race\n",
    "pd.crosstab(IP.Ethnicity, IP.Race)"
   ]
  },
  {
   "cell_type": "code",
   "execution_count": null,
   "metadata": {},
   "outputs": [],
   "source": [
    "# create combined Race/Ethnicity variable\n",
    "def create_race_ethnicity(row):\n",
    "    if row[\"Race\"] == \"WHITE\" and row[\"Ethnicity\"] != \"HISPANIC OR LATINO\":\n",
    "        Race_Ethnicity = \"Non-Hispanic White\"\n",
    "    elif row[\"Race\"] == \"BLACK OR AFRICAN AMERICAN\" and row[\"Ethnicity\"] != \"HISPANIC OR LATINO\":\n",
    "        Race_Ethnicity = \"Non-Hispanic Black\"\n",
    "    elif row[\"Ethnicity\"] == \"HISPANIC OR LATINO\":\n",
    "        Race_Ethnicity = \"Hispanic\"\n",
    "    else:\n",
    "        Race_Ethnicity = \"Other/Unknown\"\n",
    "    return Race_Ethnicity\n",
    "\n",
    "IP[\"Race_Ethnicity\"] = IP.apply(create_race_ethnicity, axis=1)"
   ]
  },
  {
   "cell_type": "code",
   "execution_count": null,
   "metadata": {},
   "outputs": [],
   "source": [
    "# check race/ethnicity variable\n",
    "pd.crosstab([IP[\"Race\"], IP[\"Ethnicity\"]], IP[\"Race_Ethnicity\"])"
   ]
  },
  {
   "cell_type": "code",
   "execution_count": null,
   "metadata": {},
   "outputs": [],
   "source": [
    "# distribution of race/ethnicity variable\n",
    "IP[\"Race_Ethnicity\"].value_counts()"
   ]
  },
  {
   "cell_type": "code",
   "execution_count": null,
   "metadata": {},
   "outputs": [],
   "source": [
    "# create binary language variable: 1=English, 0=Other\n",
    "IP.loc[IP[\"Language\"] == \"ENGLISH\", \"English\"] = 1\n",
    "IP.loc[IP[\"Language\"] != \"ENGLISH\", \"English\"] = 0"
   ]
  },
  {
   "cell_type": "code",
   "execution_count": null,
   "metadata": {},
   "outputs": [],
   "source": [
    "# check English variable\n",
    "pd.crosstab(IP[\"Language\"], IP[\"English\"])"
   ]
  },
  {
   "cell_type": "code",
   "execution_count": null,
   "metadata": {},
   "outputs": [],
   "source": [
    "# create binary language variable: 1=Female, 0=Male\n",
    "# 1 patient has a missing gender value\n",
    "IP.loc[IP[\"Gender\"] == \"FEMALE\", \"Female\"] = 1\n",
    "IP.loc[IP[\"Gender\"] == \"MALE\", \"Female\"] = 0"
   ]
  },
  {
   "cell_type": "code",
   "execution_count": null,
   "metadata": {},
   "outputs": [],
   "source": [
    "# check new gender variable\n",
    "pd.crosstab(IP[\"Gender\"], IP[\"Female\"])"
   ]
  },
  {
   "cell_type": "code",
   "execution_count": null,
   "metadata": {
    "scrolled": true
   },
   "outputs": [],
   "source": [
    "# check MS-DRG statistics\n",
    "# Readmit_MSDRG_Table = pd.crosstab(IP[\"MSDRG_gen_descr\"], IP[\"Readmit_30day_YN\"])\n",
    "# Readmit_MSDRG_Table.to_csv(\"Readmit_MSDRG_Table.csv\")"
   ]
  },
  {
   "cell_type": "code",
   "execution_count": null,
   "metadata": {},
   "outputs": [],
   "source": [
    "# create health variables from MS-DRG codes\n",
    "# these health variables were chosen from most common reasons of hospital readmission\n",
    "IP.loc[IP[\"MSDRG_gen_descr\"] == \"Heart Failure and Shock\", \"HF\"] = 1\n",
    "IP.loc[IP[\"MSDRG_gen_descr\"] != \"Heart Failure and Shock\", \"HF\"] = 0\n",
    "\n",
    "IP.loc[IP[\"MSDRG_gen_descr\"] == \"Simple Pneumonia and Pleurisy\", \"Pneumonia\"] = 1\n",
    "IP.loc[IP[\"MSDRG_gen_descr\"] != \"Simple Pneumonia and Pleurisy\", \"Pneumonia\"] = 0\n",
    "\n",
    "IP.loc[IP[\"MSDRG_gen_descr\"] == \"Chronic Obstructive Pulmonary Disease\", \"COPD\"] = 1\n",
    "IP.loc[IP[\"MSDRG_gen_descr\"] != \"Chronic Obstructive Pulmonary Disease\", \"COPD\"] = 0\n",
    "\n",
    "def create_HipKneeJoint(row):\n",
    "    if row[\"MSDRG_gen_descr\"] in (\"Revision of Hip or Knee Replacement\", \"Major Joint Replacement or Reattachment of Lower Extremity\"):\n",
    "        HipKneeJoint = 1\n",
    "    else:\n",
    "        HipKneeJoint = 0\n",
    "    return HipKneeJoint\n",
    "IP[\"HipKneeJoint\"] = IP.apply(create_HipKneeJoint, axis=1)\n",
    "\n",
    "IP.loc[IP[\"MSDRG_gen_descr\"] == \"Coronary Bypass\", \"Coronary_Bypass\"] = 1\n",
    "IP.loc[IP[\"MSDRG_gen_descr\"] != \"Coronary Bypass\", \"Coronary_Bypass\"] = 0\n",
    "\n",
    "IP.loc[IP[\"MSDRG_gen_descr\"] == \"Septicemia or Severe Sepsis\", \"Septicemia\"] = 1\n",
    "IP.loc[IP[\"MSDRG_gen_descr\"] != \"Septicemia or Severe Sepsis\", \"Septicemia\"] = 0\n",
    "\n",
    "IP.loc[IP[\"MSDRG_cat\"] == \"MDC 19 Mental Diseases & Disorders\", \"Mental_Disorder\"] = 1\n",
    "IP.loc[IP[\"MSDRG_cat\"] != \"MDC 19 Mental Diseases & Disorders\", \"Mental_Disorder\"] = 0\n",
    "\n",
    "IP.loc[IP[\"MSDRG_cat\"] == \"MDC 20 Alcohol/Drug Use & Alcohol/Drug Induced Organic Mental Disorders\", \"Alcohol_Abuse\"] = 1\n",
    "IP.loc[IP[\"MSDRG_cat\"] != \"MDC 20 Alcohol/Drug Use & Alcohol/Drug Induced Organic Mental Disorders\", \"Alcohol_Abuse\"] = 0\n",
    "\n",
    "IP.loc[IP[\"MSDRG_gen_descr\"] == \"Diabetes\", \"Diabetes\"] = 1\n",
    "IP.loc[IP[\"MSDRG_gen_descr\"] != \"Diabetes\", \"Diabetes\"] = 0\n",
    "\n",
    "def create_Chemo(row):\n",
    "    if row[\"MSDRG_gen_descr\"] in (\"Chemotherapy\", \"Chemotherapy without Acute Leukemia as Secondary Diagnosis\"):\n",
    "        Chemotherapy = 1\n",
    "    else:\n",
    "        Chemotherapy = 0\n",
    "    return Chemotherapy\n",
    "IP[\"Chemotherapy\"] = IP.apply(create_Chemo, axis=1)\n",
    "\n",
    "IP.loc[IP[\"MSDRG_gen_descr\"] == \"Bronchitis and Asthma\", \"Asthma\"] = 1\n",
    "IP.loc[IP[\"MSDRG_gen_descr\"] != \"Bronchitis and Asthma\", \"Asthma\"] = 0"
   ]
  },
  {
   "cell_type": "code",
   "execution_count": null,
   "metadata": {},
   "outputs": [],
   "source": [
    "# get status of patient health outcomes into dataset with unique patient rows among positive readmission status rows\n",
    "pysqldf = lambda q: sqldf(q, globals())\n",
    "\n",
    "q = \"\"\"\n",
    "SELECT ID, MAX(HF) as HF, MAX(Pneumonia) as Pneumonia, MAX(COPD) as COPD, MAX(HipKneeJoint) as HipKneeJoint, \n",
    "MAX(Coronary_Bypass) as Coronary_Bypass, MAX(Septicemia) as Septicemia, MAX(Mental_Disorder) as Mental_Disorder,  \n",
    "MAX(Alcohol_Abuse) as Alcohol_Abuse, MAX(Diabetes) as Diabetes, MAX(Chemotherapy) as Chemotherapy, MAX(Asthma) as Asthma       \n",
    "FROM IP\n",
    "GROUP BY ID;\n",
    "\"\"\"\n",
    "\n",
    "IP_DX = pysqldf(q)"
   ]
  },
  {
   "cell_type": "code",
   "execution_count": null,
   "metadata": {},
   "outputs": [],
   "source": [
    "# convert readmission status column to 1=yes, 0=no\n",
    "IP.loc[IP[\"Readmit_30day_YN\"] == \"Y\", \"Readmit_30day_Bin\"] = 1\n",
    "IP.loc[IP[\"Readmit_30day_YN\"] == \"N\", \"Readmit_30day_Bin\"] = 0"
   ]
  },
  {
   "cell_type": "code",
   "execution_count": null,
   "metadata": {},
   "outputs": [],
   "source": [
    "# check counts of readmission status variables\n",
    "print(IP[\"Readmit_30day_YN\"].value_counts())\n",
    "print(IP[\"Readmit_30day_Bin\"].value_counts())"
   ]
  },
  {
   "cell_type": "code",
   "execution_count": null,
   "metadata": {},
   "outputs": [],
   "source": [
    "# group IP dataset to get rows of unique patient IDs and readmission status\n",
    "# if the patient was readmitted, they were included\n",
    "pysqldf = lambda q: sqldf(q, globals())\n",
    "\n",
    "q = \"\"\"\n",
    "SELECT ID, MAX(Readmit_30day_Bin) as Readmit\n",
    "FROM IP\n",
    "GROUP BY ID;\n",
    "\"\"\"\n",
    "\n",
    "IP_Readmit = pysqldf(q)"
   ]
  },
  {
   "cell_type": "code",
   "execution_count": null,
   "metadata": {},
   "outputs": [],
   "source": [
    "# check IP_Readmit dataset\n",
    "print(f\"There are {len(IP_Readmit)} rows in this dataset.\")\n",
    "print(f\"There are {len(IP_Readmit['ID'].unique())} unique patients.\")\n",
    "print(f\"There are {len(IP_Readmit[IP_Readmit['Readmit'] == 1])} patients who were readmitted in this dataset.\")"
   ]
  },
  {
   "cell_type": "code",
   "execution_count": null,
   "metadata": {},
   "outputs": [],
   "source": [
    "# sort IP dataset by age from oldest to youngest\n",
    "IP_sorted = IP.sort_values(by='Age', ascending=False)\n",
    "\n",
    "# group IP dataset to get rows of unique patient IDs and for their demographics\n",
    "# selected rows of patients' oldest age within 2017\n",
    "IP_Unique = IP_sorted.groupby('ID').nth(0)\n",
    "\n",
    "# remove old variables, MS-DRG variables, and health variables\n",
    "IP_Unique = IP_Unique.drop(columns=['Readmit_30day_YN', 'Readmit_30day_Bin', 'Ethnicity', 'Race', 'Language', 'Gender',\n",
    "                                    'MSDRG_num', 'MSDRG_cat', 'MSDRG_gen_descr', 'MSDRG_descr', 'HF', 'Pneumonia',\n",
    "                                   'COPD', 'HipKneeJoint', 'Coronary_Bypass', 'Septicemia', 'Mental_Disorder',\n",
    "                                   'Alcohol_Abuse', 'Diabetes', 'Chemotherapy', 'Asthma'])\n",
    "\n",
    "#merge readmission dataset to IP_Unique dataset\n",
    "IP_Readmit_Pred = pd.merge(IP_Unique, IP_Readmit, on = \"ID\")\n",
    "IP_Final = pd.merge(IP_Readmit_Pred, IP_DX, on = \"ID\")"
   ]
  },
  {
   "cell_type": "code",
   "execution_count": null,
   "metadata": {},
   "outputs": [],
   "source": [
    "# export cleaned dataset to CSV\n",
    "IP_Final.to_csv(\"../Datasets/Rush_IP_2017_ACS_Cleaned.csv\", index = False)"
   ]
  }
 ],
 "metadata": {
  "kernelspec": {
   "display_name": "Python 3",
   "language": "python",
   "name": "python3"
  },
  "language_info": {
   "codemirror_mode": {
    "name": "ipython",
    "version": 3
   },
   "file_extension": ".py",
   "mimetype": "text/x-python",
   "name": "python",
   "nbconvert_exporter": "python",
   "pygments_lexer": "ipython3",
   "version": "3.7.3"
  }
 },
 "nbformat": 4,
 "nbformat_minor": 2
}
