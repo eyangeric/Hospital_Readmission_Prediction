{
 "cells": [
  {
   "cell_type": "markdown",
   "metadata": {},
   "source": [
    "# Unsupervised Machine Learning with 2017 Rush University Medical Center and Rush Oak Park Hospital Inpatient Data "
   ]
  },
  {
   "cell_type": "code",
   "execution_count": null,
   "metadata": {},
   "outputs": [],
   "source": [
    "# import dependencies\n",
    "import pandas as pd\n",
    "from sklearn.preprocessing import MinMaxScaler\n",
    "from sklearn.cluster import KMeans\n",
    "import matplotlib.pyplot as plt"
   ]
  },
  {
   "cell_type": "code",
   "execution_count": null,
   "metadata": {},
   "outputs": [],
   "source": [
    "# load Inpatient dataset\n",
    "IP = pd.read_csv(\"../Datasets/Rush_IP_2017_ACS_Cleaned.csv\")"
   ]
  },
  {
   "cell_type": "code",
   "execution_count": null,
   "metadata": {},
   "outputs": [],
   "source": [
    "# list column names\n",
    "IP.columns"
   ]
  },
  {
   "cell_type": "code",
   "execution_count": null,
   "metadata": {},
   "outputs": [],
   "source": [
    "# get dummy variables for race/ethnicity variable\n",
    "IP.loc[IP[\"Race_Ethnicity\"] == \"Non-Hispanic Black\", \"RE_NHB\"] = 1\n",
    "IP.loc[IP[\"Race_Ethnicity\"] != \"Non-Hispanic Black\", \"RE_NHB\"] = 0\n",
    "\n",
    "IP.loc[IP[\"Race_Ethnicity\"] == \"Hispanic\", \"RE_Hisp\"] = 1\n",
    "IP.loc[IP[\"Race_Ethnicity\"] != \"Hispanic\", \"RE_Hisp\"] = 0\n",
    "\n",
    "IP.loc[IP[\"Race_Ethnicity\"] == \"Other/Unknown\", \"RE_Other\"] = 1\n",
    "IP.loc[IP[\"Race_Ethnicity\"] != \"Other/Unknown\", \"RE_Other\"] = 0"
   ]
  },
  {
   "cell_type": "code",
   "execution_count": null,
   "metadata": {},
   "outputs": [],
   "source": [
    "# drop missing rows\n",
    "IP = IP.dropna()"
   ]
  },
  {
   "cell_type": "code",
   "execution_count": null,
   "metadata": {},
   "outputs": [],
   "source": [
    "# select columns for analysis\n",
    "IP_Analysis = IP[['Age', 'no_diploma_pct', 'HS_Grad_ge25_pct',\n",
    "       'HS_Grad_orHigher_pct', 'Bach_Deg_ge25_pct', 'Bach_Deg_orHigher_pct',\n",
    "       'Labor_Partic_Rate', 'Emp_Pop_Ratio', 'Unemp_Rate', 'Uninsured_Percent',\n",
    "       'Household_Med_Income', 'Family_Med_income', 'Married_Fam_Med_Income',\n",
    "       'NonFamHousehold_Med_Income', 'Housing_Occ_Percent',\n",
    "       'Housing_Vacant_Percent', 'Below_Poverty_Percent',\n",
    "       'Household_SNAP_Percent', 'English', 'Female',\n",
    "       'Readmit', 'RE_NHB', 'RE_Hisp', 'RE_Other']]"
   ]
  },
  {
   "cell_type": "code",
   "execution_count": null,
   "metadata": {},
   "outputs": [],
   "source": [
    "# scale the dataset\n",
    "mms = MinMaxScaler()\n",
    "mms.fit(IP_Analysis)\n",
    "data_transformed = mms.transform(IP_Analysis)"
   ]
  },
  {
   "cell_type": "code",
   "execution_count": null,
   "metadata": {},
   "outputs": [],
   "source": [
    "# get sum of squared distances\n",
    "Sum_of_squared_distances = []\n",
    "K = range(1, 15)\n",
    "for k in K:\n",
    "    km = KMeans(n_clusters=k)\n",
    "    km = km.fit(data_transformed)\n",
    "    Sum_of_squared_distances.append(km.inertia_)"
   ]
  },
  {
   "cell_type": "code",
   "execution_count": null,
   "metadata": {},
   "outputs": [],
   "source": [
    "# plot sum of squared distances to look for elbow\n",
    "# The optimal k for this dataset appears to be 4.\n",
    "# https://blog.cambridgespark.com/how-to-determine-the-optimal-number-of-clusters-for-k-means-clustering-14f27070048f\n",
    "plt.plot(K, Sum_of_squared_distances, 'bx-')\n",
    "plt.xlabel('k')\n",
    "plt.ylabel('Sum of Squared Distances')\n",
    "plt.title('Elbow Method for Optimal k')\n",
    "plt.show()"
   ]
  },
  {
   "cell_type": "code",
   "execution_count": null,
   "metadata": {},
   "outputs": [],
   "source": [
    "# run K means clustering for 4 clusters\n",
    "kmeans = KMeans(n_clusters=4)\n",
    "kmeans.fit(data_transformed)\n",
    "predicted_clusters = kmeans.predict(data_transformed)"
   ]
  },
  {
   "cell_type": "code",
   "execution_count": null,
   "metadata": {},
   "outputs": [],
   "source": [
    "# add 1 to every cluster number to avoid the 0 label for cluster 1\n",
    "clusters = []\n",
    "for cluster in predicted_clusters:\n",
    "    cluster += 1\n",
    "    clusters.append(cluster)"
   ]
  },
  {
   "cell_type": "code",
   "execution_count": null,
   "metadata": {},
   "outputs": [],
   "source": [
    "# add predicted clusters as a column\n",
    "IP['Cluster'] = clusters"
   ]
  },
  {
   "cell_type": "code",
   "execution_count": null,
   "metadata": {},
   "outputs": [],
   "source": [
    "# split up categorical and continuous variables\n",
    "categorical_variables = ['Race_Ethnicity', 'English', 'Female', 'Readmit']\n",
    "continuous_variables = ['Age', 'no_diploma_pct', 'HS_Grad_ge25_pct', 'HS_Grad_orHigher_pct',\n",
    "       'Bach_Deg_ge25_pct', 'Bach_Deg_orHigher_pct', 'Labor_Partic_Rate',\n",
    "       'Emp_Pop_Ratio', 'Unemp_Rate', 'Uninsured_Percent',\n",
    "       'Household_Med_Income', 'Family_Med_income', 'Married_Fam_Med_Income',\n",
    "       'NonFamHousehold_Med_Income', 'Housing_Occ_Percent',\n",
    "       'Housing_Vacant_Percent', 'Below_Poverty_Percent',\n",
    "       'Household_SNAP_Percent']"
   ]
  },
  {
   "cell_type": "code",
   "execution_count": null,
   "metadata": {},
   "outputs": [],
   "source": [
    "# check categorical variable descriptive statistics of clusters \n",
    "table_counts_list = []\n",
    "table_percents_list = []\n",
    "\n",
    "for col in categorical_variables:\n",
    "    table_counts = pd.crosstab(IP[col], IP[\"Cluster\"], margins = True)\n",
    "    table_percents = table_counts/table_counts.ix[\"All\"]\n",
    "    table_counts_list.append(table_counts)\n",
    "    table_percents_list.append(table_percents)\n",
    "    \n",
    "# print(table_counts_list)\n",
    "for table in table_percents_list:\n",
    "    print(table)"
   ]
  },
  {
   "cell_type": "code",
   "execution_count": null,
   "metadata": {},
   "outputs": [],
   "source": [
    "# check continuous variable descriptive statistics of clusters \n",
    "table_stats_list = []\n",
    "\n",
    "for col in continuous_variables:\n",
    "    cluster1_stats = IP[col][IP['Cluster'] == 1].describe()\n",
    "    table_stats_list.append(cluster1_stats)\n",
    "    \n",
    "    cluster2_stats = IP[col][IP['Cluster'] == 2].describe()\n",
    "    table_stats_list.append(cluster2_stats)\n",
    "    \n",
    "    cluster3_stats = IP[col][IP['Cluster'] == 3].describe()\n",
    "    table_stats_list.append(cluster3_stats)\n",
    "    \n",
    "    cluster4_stats = IP[col][IP['Cluster'] == 4].describe()\n",
    "    table_stats_list.append(cluster4_stats)\n",
    "    \n",
    "table_stats_list"
   ]
  },
  {
   "cell_type": "markdown",
   "metadata": {},
   "source": [
    "###### Readmission status proportions was consistent between the clusters.\n",
    "###### Cluster 1: Hispanic, slightly less English speakers, mostly female, lower socioeconomic status (SES)\n",
    "###### Cluster 2: Non-Hispanic Black, mostly English speakers, mostly female, lower SES\n",
    "###### Cluster 3: Non-Hispanic White, mostly English speakers, all male, more educated, more employed, more insured, higher income, higher SES\n",
    "###### Cluster 4: Non-Hispanic White, mostly English speakers, all female, more educated, more employed, more insured, higher income, higher SES"
   ]
  },
  {
   "cell_type": "markdown",
   "metadata": {},
   "source": [
    "###### Race/Ethnicity, gender, and SES appear to be what differentiates the clusters. Cluster 1 with Hispanic people and Cluster 2 with Non-Hispanic Black people appear to be the lower SES group. Clusters 3 and 4 appear to be non-Hispanic White people with higher SES, only distinguished by gender."
   ]
  }
 ],
 "metadata": {
  "kernelspec": {
   "display_name": "Python 3",
   "language": "python",
   "name": "python3"
  },
  "language_info": {
   "codemirror_mode": {
    "name": "ipython",
    "version": 3
   },
   "file_extension": ".py",
   "mimetype": "text/x-python",
   "name": "python",
   "nbconvert_exporter": "python",
   "pygments_lexer": "ipython3",
   "version": "3.7.3"
  }
 },
 "nbformat": 4,
 "nbformat_minor": 2
}
